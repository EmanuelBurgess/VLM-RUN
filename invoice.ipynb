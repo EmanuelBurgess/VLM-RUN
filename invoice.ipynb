{
 "cells": [
  {
   "cell_type": "markdown",
   "metadata": {},
   "source": [
    "# --- Invoice Parsing with VLM API ---\n",
    "\n",
    "\n",
    "# This Jupyter Notebook demonstrates how to upload an invoice, parse it using the VLM RUN API, and retrieve the results."
   ]
  },
  {
   "cell_type": "code",
   "execution_count": null,
   "metadata": {},
   "outputs": [],
   "source": [
    "!pip install requests"
   ]
  },
  {
   "cell_type": "code",
   "execution_count": null,
   "metadata": {},
   "outputs": [],
   "source": [
    "import requests\n",
    "from pathlib import Path\n",
    "import time\n",
    "import json"
   ]
  },
  {
   "cell_type": "code",
   "execution_count": null,
   "metadata": {},
   "outputs": [],
   "source": [
    "# Replace these with your actual values:\n",
    "VLM_API_KEY = \"YOUR_VLM_API_KEY\"  # REPLACE WITH YOUR API KEY\n",
    "INVOICE_FILE_PATH = \"path/to/your/invoice.pdf\"  # REPLACE WITH THE ACTUAL PATH TO YOUR INVOICE FILE"
   ]
  },
  {
   "cell_type": "code",
   "execution_count": null,
   "metadata": {},
   "outputs": [],
   "source": [
    "# Set the headers\n",
    "headers = {\n",
    "  \"Authorization\": f\"Bearer <VLMRUN_API_KEY>\",\n",
    "}\n",
    "\n",
    "# Upload the file\n",
    "path = Path(\"<path/to/invoice.pdf>\")\n",
    "r = requests.post(\n",
    "    \"https://api.vlm.run/v1/files\",\n",
    "    files={\"file\": path.open(\"rb\")},\n",
    "    headers=headers)\n",
    "print(f\"Uploaded file:\\n {r.json()}\")\n"
   ]
  },
  {
   "cell_type": "code",
   "execution_count": null,
   "metadata": {},
   "outputs": [],
   "source": [
    "\n",
    "# Set the headers\n",
    "headers = {\n",
    "  \"Authorization\": f\"Bearer <VLMRUN_API_KEY>\",\n",
    "}\n",
    "\n",
    "# Submit the invoice for parsing\n",
    "json_data = {\n",
    "    \"file_id\": r[\"id\"],\n",
    "    \"model\": \"vlm-1\",\n",
    "    \"domain\": \"document.invoice\",\n",
    "    \"batch\": True,\n",
    "}\n",
    "response = requests.post(\n",
    "    \"https://api.vlm.run/v1/document/generate\",\n",
    "    headers=headers, json=json_data)\n",
    "json_response = response.json()\n",
    "print(f\"Invoice parsing job submitted:\\n {json_response}\")"
   ]
  },
  {
   "cell_type": "code",
   "execution_count": null,
   "metadata": {},
   "outputs": [],
   "source": [
    "# Fetch the results\n",
    "response = requests.get(\n",
    "    f\"https://api.vlm.run/v1/document/{json_response[\"id\"]}\",\n",
    "    headers=headers)\n",
    "json_response = response.json()\n",
    "print(f\"Invoice parsing job results:\\n {json_response}\")"
   ]
  }
 ],
 "metadata": {
  "kernelspec": {
   "display_name": "Python 3",
   "language": "python",
   "name": "python3"
  },
  "language_info": {
   "codemirror_mode": {
    "name": "ipython",
    "version": 3
   },
   "file_extension": ".py",
   "mimetype": "text/x-python",
   "name": "python",
   "nbconvert_exporter": "python",
   "pygments_lexer": "ipython3",
   "version": "3.13.0"
  }
 },
 "nbformat": 4,
 "nbformat_minor": 2
}
